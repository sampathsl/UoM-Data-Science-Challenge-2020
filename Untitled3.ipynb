{
 "cells": [
  {
   "cell_type": "code",
   "execution_count": 1,
   "metadata": {},
   "outputs": [
    {
     "name": "stdout",
     "output_type": "stream",
     "text": [
      "Index(['A1', 'A2', 'A3', 'A4', 'A5', 'A6', 'A7', 'A8', 'A9', 'A10', 'A11',\n",
      "       'A12', 'A13', 'A14', 'A15', 'A16', 'A17', 'A18', 'A19', 'A20', 'A21',\n",
      "       'A22', 'A23', 'A24', 'A25', 'A26', 'A27', 'A28', 'A29', 'A30', 'A31',\n",
      "       'A32', 'A33', 'A34', 'A35'],\n",
      "      dtype='object')\n"
     ]
    },
    {
     "name": "stderr",
     "output_type": "stream",
     "text": [
      "C:\\Users\\sampatht\\AppData\\Local\\Continuum\\anaconda3\\lib\\site-packages\\ipykernel_launcher.py:33: DataConversionWarning: A column-vector y was passed when a 1d array was expected. Please change the shape of y to (n_samples,), for example using ravel().\n"
     ]
    },
    {
     "name": "stdout",
     "output_type": "stream",
     "text": [
      "-------------------------------------------------\n",
      "('A1', 0.021861088803602425)\n",
      "('A2', 0.019718103671245844)\n",
      "('A3', 0.011286445681156998)\n",
      "('A4', 0.016485909075763885)\n",
      "('A5', 0.0306840595130349)\n",
      "('A6', 0.025224083037636482)\n",
      "('A7', 0.010879720803010588)\n",
      "('A8', 0.020171331900992698)\n",
      "('A9', 0.029400407362294788)\n",
      "('A10', 0.019616328901811933)\n",
      "('A11', 0.009749231076117587)\n",
      "('A12', 0.018288035727269353)\n",
      "('A13', 0.040628235276726016)\n",
      "('A14', 0.035697242209130384)\n",
      "('A15', 0.014863840446214202)\n",
      "('A16', 0.03389874858664891)\n",
      "('A17', 0.06522088819780553)\n",
      "('A18', 0.06507922708188887)\n",
      "('A19', 0.026251112368527924)\n",
      "('A20', 0.04911643998880286)\n",
      "('A21', 0.05410341519352066)\n",
      "('A22', 0.05578208810561614)\n",
      "('A23', 0.01630924003506386)\n",
      "('A24', 0.0364139389951988)\n",
      "('A25', 0.0320147462378567)\n",
      "('A26', 0.018670577080277095)\n",
      "('A27', 0.010651543433786267)\n",
      "('A28', 0.02273503972267033)\n",
      "('A29', 0.04347596516079558)\n",
      "('A30', 0.02821920759840883)\n",
      "('A31', 0.010668100073850596)\n",
      "('A32', 0.02694306841723167)\n",
      "('A33', 0.03432947659103347)\n",
      "('A34', 0.03166884639540784)\n",
      "('A35', 0.013894267249599877)\n",
      "-------------------------------------------------\n"
     ]
    },
    {
     "name": "stderr",
     "output_type": "stream",
     "text": [
      "No handles with labels found to put in legend.\n"
     ]
    },
    {
     "data": {
      "image/png": "[encoded data removed]",
      "text/plain": [
       "<Figure size 432x288 with 1 Axes>"
      ]
     },
     "metadata": {
      "needs_background": "light"
     },
     "output_type": "display_data"
    },
    {
     "name": "stdout",
     "output_type": "stream",
     "text": [
      "Accuracy: 0.906\n"
     ]
    }
   ],
   "source": [
    "import pandas as pd\n",
    "import numpy as np\n",
    "import seaborn as sns\n",
    "import matplotlib.pyplot as plt\n",
    "import seaborn as sns\n",
    "\n",
    "from sklearn.model_selection import train_test_split\n",
    "from sklearn.tree import DecisionTreeClassifier\n",
    "\n",
    "test_data = pd.read_csv(\"cse_DS_Intro3TEST.csv\")\n",
    "train_data = pd.read_csv(\"cse_DS_Intro3TRAIN.csv\")\n",
    "\n",
    "test_data.isnull().any()\n",
    "train_data.isnull().any()\n",
    "\n",
    "columns = train_data.filter(regex='A').columns\n",
    "print(columns)\n",
    "\n",
    "final_train = train_data.loc[:, train_data.columns != \"ID\"]\n",
    "X = final_train.loc[:, final_train.columns != \"Class\"]\n",
    "Y = final_train.loc[:, final_train.columns == \"Class\"]\n",
    "\n",
    "#X_train, X_test, y_train, y_test = train_test_split(X, Y, test_size=0.1, random_state=1000)\n",
    "X_train, X_test, y_train, y_test = train_test_split(X, Y, test_size=0.3)\n",
    "\n",
    "#Import Random Forest Model\n",
    "from sklearn.ensemble import RandomForestClassifier\n",
    "\n",
    "#Create a Gaussian Classifier\n",
    "clf = RandomForestClassifier(n_estimators=1000)\n",
    "\n",
    "#Train the model using the training sets y_pred=clf.predict(X_test)\n",
    "clf.fit(X_train,y_train)\n",
    "\n",
    "y_pred = clf.predict(X_test)\n",
    "\n",
    "print('-------------------------------------------------')\n",
    "# Print the name and gini importance of each feature\n",
    "for feature in zip(columns, clf.feature_importances_):\n",
    "    print(feature)\n",
    "print('-------------------------------------------------')\n",
    "\n",
    "import pandas as pd\n",
    "feature_imp = pd.Series(clf.feature_importances_,index=columns).sort_values(ascending=False)\n",
    "feature_imp\n",
    "\n",
    "import matplotlib.pyplot as plt\n",
    "import seaborn as sns\n",
    "%matplotlib inline\n",
    "\n",
    "# Creating a bar plot\n",
    "sns.barplot(x=feature_imp, y=feature_imp.index)\n",
    "sns.figsize=(8, 6)\n",
    "# Add labels to your graph\n",
    "plt.xlabel('Feature Importance Score')\n",
    "plt.ylabel('Features')\n",
    "plt.title(\"Visualizing Important Features\")\n",
    "plt.legend()\n",
    "plt.show()\n",
    "\n",
    "#Import scikit-learn metrics module for accuracy calculation\n",
    "from sklearn import metrics\n",
    "# Model Accuracy, how often is the classifier correct?\n",
    "print(\"Accuracy:\",metrics.accuracy_score(y_test, y_pred))"
   ]
  },
  {
   "cell_type": "code",
   "execution_count": 10,
   "metadata": {},
   "outputs": [],
   "source": [
    "# Remove unconsiderable column\n",
    "X = final_train[['A1', 'A2', 'A4', 'A5','A6','A8', 'A9', 'A10',\n",
    "       'A12', 'A13', 'A14', 'A15', 'A16', 'A17', 'A18', 'A19', 'A20', 'A21',\n",
    "       'A22', 'A23', 'A24', 'A25', 'A26', 'A28', 'A29', 'A30',\n",
    "       'A32', 'A33', 'A34','A31','A3','A35']]  # Removed feature \"sepal length\"\n",
    "y = final_train['Class']                                       \n",
    "# Split dataset into training set and test set\n",
    "X_train, X_test, y_train, y_test = train_test_split(X, Y, test_size=0.3, random_state=5000)#% training and 30% test"
   ]
  },
  {
   "cell_type": "code",
   "execution_count": 11,
   "metadata": {},
   "outputs": [
    {
     "name": "stdout",
     "output_type": "stream",
     "text": [
      "Accuracy: 0.908\n"
     ]
    }
   ],
   "source": [
    "#Import Random Forest Model\n",
    "from sklearn.ensemble import RandomForestClassifier\n",
    "\n",
    "#Create a Gaussian Classifier\n",
    "clf = RandomForestClassifier(n_estimators=5000)\n",
    "\n",
    "#Train the model using the training sets y_pred=clf.predict(X_test)\n",
    "clf.fit(X_train,y_train.values.ravel())\n",
    "\n",
    "y_pred = clf.predict(X_test)\n",
    "\n",
    "#Import scikit-learn metrics module for accuracy calculation\n",
    "from sklearn import metrics\n",
    "# Model Accuracy, how often is the classifier correct?\n",
    "print(\"Accuracy:\",metrics.accuracy_score(y_test, y_pred))"
   ]
  },
  {
   "cell_type": "code",
   "execution_count": 14,
   "metadata": {},
   "outputs": [],
   "source": [
    "test_data_pre = test_data[['A1', 'A2', 'A4', 'A5','A6','A8', 'A9', 'A10',\n",
    "       'A12', 'A13', 'A14', 'A15', 'A16', 'A17', 'A18', 'A19', 'A20', 'A21',\n",
    "       'A22', 'A23', 'A24', 'A25', 'A26', 'A28', 'A29', 'A30',\n",
    "       'A32', 'A33', 'A34','A31','A3','A35']]\n",
    "\n",
    "y_pred = clf.predict(test_data_pre)\n",
    "with open('submission_random_f_1.csv', 'w') as fp:\n",
    "    fp.write(\"Id,Prediction\\n\")\n",
    "    for i,p in enumerate(y_pred):\n",
    "        fp.write(\"{},{}\\n\".format(i+1, p))"
   ]
  },
  {
   "cell_type": "code",
   "execution_count": null,
   "metadata": {},
   "outputs": [],
   "source": []
  }
 ],
 "metadata": {
  "kernelspec": {
   "display_name": "Python 3",
   "language": "python",
   "name": "python3"
  },
  "language_info": {
   "codemirror_mode": {
    "name": "ipython",
    "version": 3
   },
   "file_extension": ".py",
   "mimetype": "text/x-python",
   "name": "python",
   "nbconvert_exporter": "python",
   "pygments_lexer": "ipython3",
   "version": "3.7.4"
  }
 },
 "nbformat": 4,
 "nbformat_minor": 2
}
